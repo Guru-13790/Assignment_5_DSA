{
 "cells": [
  {
   "cell_type": "code",
   "execution_count": 1,
   "id": "54c11d05-cca9-4f6d-bc1d-638f3eb5e4c2",
   "metadata": {},
   "outputs": [],
   "source": [
    "class Node:\n",
    "    def __init__(self, data):\n",
    "        self.data = data\n",
    "        self.next = None\n",
    "\n",
    "class Stack:\n",
    "    def __init__(self):\n",
    "        self._top = None\n",
    "        self._size = 0\n",
    "\n",
    "    def push(self, value):\n",
    "        # Create a new node\n",
    "        new_node = Node(value)\n",
    "        # Set the new node's next to the current top\n",
    "        new_node.next = self._top\n",
    "        # Update the top to the new node\n",
    "        self._top = new_node\n",
    "        # Increment the size\n",
    "        self._size += 1\n",
    "\n",
    "    def pop(self):\n",
    "        if self._top is None:\n",
    "            return None  # Stack is empty\n",
    "        # Retrieve the data from the top node\n",
    "        value = self._top.data\n",
    "        # Update the top to the next node\n",
    "        self._top = self._top.next\n",
    "        # Decrement the size\n",
    "        self._size -= 1\n",
    "        # Return the popped value\n",
    "        return value\n",
    "\n",
    "    def __repr__(self):\n",
    "        elements = [node.data for node in self]\n",
    "        return f'<Stack ({self._size} elements): {elements}>'\n",
    "\n",
    "    def __iter__(self):\n",
    "        current = self._top\n",
    "        while current:\n",
    "            yield current\n",
    "            current = current.next\n"
   ]
  },
  {
   "cell_type": "code",
   "execution_count": null,
   "id": "3de4b7d0-e303-4a81-9801-ef4fb5f96a0d",
   "metadata": {},
   "outputs": [],
   "source": []
  }
 ],
 "metadata": {
  "kernelspec": {
   "display_name": "Python 3 (ipykernel)",
   "language": "python",
   "name": "python3"
  },
  "language_info": {
   "codemirror_mode": {
    "name": "ipython",
    "version": 3
   },
   "file_extension": ".py",
   "mimetype": "text/x-python",
   "name": "python",
   "nbconvert_exporter": "python",
   "pygments_lexer": "ipython3",
   "version": "3.12.7"
  }
 },
 "nbformat": 4,
 "nbformat_minor": 5
}
